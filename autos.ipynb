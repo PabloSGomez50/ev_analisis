{
 "cells": [
  {
   "cell_type": "code",
   "execution_count": 1,
   "metadata": {},
   "outputs": [],
   "source": [
    "import pandas as pd\n",
    "import plotly.express as px\n"
   ]
  },
  {
   "cell_type": "markdown",
   "metadata": {},
   "source": [
    "## Evs data"
   ]
  },
  {
   "cell_type": "code",
   "execution_count": 10,
   "metadata": {},
   "outputs": [
    {
     "data": {
      "text/html": [
       "<div>\n",
       "<style scoped>\n",
       "    .dataframe tbody tr th:only-of-type {\n",
       "        vertical-align: middle;\n",
       "    }\n",
       "\n",
       "    .dataframe tbody tr th {\n",
       "        vertical-align: top;\n",
       "    }\n",
       "\n",
       "    .dataframe thead th {\n",
       "        text-align: right;\n",
       "    }\n",
       "</style>\n",
       "<table border=\"1\" class=\"dataframe\">\n",
       "  <thead>\n",
       "    <tr style=\"text-align: right;\">\n",
       "      <th></th>\n",
       "      <th>Unnamed: 0</th>\n",
       "      <th>Unnamed: 1</th>\n",
       "      <th>Unnamed: 2</th>\n",
       "      <th>Unnamed: 3</th>\n",
       "      <th>Unnamed: 4</th>\n",
       "      <th>Unnamed: 5</th>\n",
       "      <th>Unnamed: 6</th>\n",
       "      <th>Unnamed: 7</th>\n",
       "      <th>Unnamed: 8</th>\n",
       "      <th>Unnamed: 9</th>\n",
       "      <th>...</th>\n",
       "      <th>Unnamed: 156</th>\n",
       "      <th>Unnamed: 157</th>\n",
       "      <th>Unnamed: 158</th>\n",
       "      <th>Unnamed: 159</th>\n",
       "      <th>Unnamed: 160</th>\n",
       "      <th>Unnamed: 161</th>\n",
       "      <th>Unnamed: 162</th>\n",
       "      <th>Unnamed: 163</th>\n",
       "      <th>Unnamed: 164</th>\n",
       "      <th>Unnamed: 165</th>\n",
       "    </tr>\n",
       "  </thead>\n",
       "  <tbody>\n",
       "    <tr>\n",
       "      <th>0</th>\n",
       "      <td>NaN</td>\n",
       "      <td>NaN</td>\n",
       "      <td>NaN</td>\n",
       "      <td>NaN</td>\n",
       "      <td>NaN</td>\n",
       "      <td>NaN</td>\n",
       "      <td>(Not Confidential)</td>\n",
       "      <td>NaN</td>\n",
       "      <td>NaN</td>\n",
       "      <td>NaN</td>\n",
       "      <td>...</td>\n",
       "      <td>NaN</td>\n",
       "      <td>NaN</td>\n",
       "      <td>NaN</td>\n",
       "      <td>NaN</td>\n",
       "      <td>NaN</td>\n",
       "      <td>NaN</td>\n",
       "      <td>NaN</td>\n",
       "      <td>NaN</td>\n",
       "      <td>NaN</td>\n",
       "      <td>NaN</td>\n",
       "    </tr>\n",
       "    <tr>\n",
       "      <th>1</th>\n",
       "      <td>NaN</td>\n",
       "      <td>NaN</td>\n",
       "      <td>NaN</td>\n",
       "      <td>NaN</td>\n",
       "      <td>NaN</td>\n",
       "      <td>NaN</td>\n",
       "      <td>NaN</td>\n",
       "      <td>NaN</td>\n",
       "      <td>NaN</td>\n",
       "      <td>NaN</td>\n",
       "      <td>...</td>\n",
       "      <td>NaN</td>\n",
       "      <td>NaN</td>\n",
       "      <td>PHEV</td>\n",
       "      <td>NaN</td>\n",
       "      <td>NaN</td>\n",
       "      <td>NaN</td>\n",
       "      <td>NaN</td>\n",
       "      <td>NaN</td>\n",
       "      <td>NaN</td>\n",
       "      <td>NaN</td>\n",
       "    </tr>\n",
       "    <tr>\n",
       "      <th>2</th>\n",
       "      <td>NaN</td>\n",
       "      <td>NaN</td>\n",
       "      <td>NaN</td>\n",
       "      <td>NaN</td>\n",
       "      <td>NaN</td>\n",
       "      <td>NaN</td>\n",
       "      <td>NaN</td>\n",
       "      <td>NaN</td>\n",
       "      <td>NaN</td>\n",
       "      <td>NaN</td>\n",
       "      <td>...</td>\n",
       "      <td>NaN</td>\n",
       "      <td>NaN</td>\n",
       "      <td>NaN</td>\n",
       "      <td>NaN</td>\n",
       "      <td>NaN</td>\n",
       "      <td>NaN</td>\n",
       "      <td>NaN</td>\n",
       "      <td>NaN</td>\n",
       "      <td>NaN</td>\n",
       "      <td>NaN</td>\n",
       "    </tr>\n",
       "    <tr>\n",
       "      <th>3</th>\n",
       "      <td>NaN</td>\n",
       "      <td>NaN</td>\n",
       "      <td>NaN</td>\n",
       "      <td>NaN</td>\n",
       "      <td>NaN</td>\n",
       "      <td>NaN</td>\n",
       "      <td>NaN</td>\n",
       "      <td>NaN</td>\n",
       "      <td>NaN</td>\n",
       "      <td>NaN</td>\n",
       "      <td>...</td>\n",
       "      <td>NaN</td>\n",
       "      <td>NaN</td>\n",
       "      <td>NaN</td>\n",
       "      <td>NaN</td>\n",
       "      <td>NaN</td>\n",
       "      <td>NaN</td>\n",
       "      <td>NaN</td>\n",
       "      <td>NaN</td>\n",
       "      <td>NaN</td>\n",
       "      <td>NaN</td>\n",
       "    </tr>\n",
       "    <tr>\n",
       "      <th>4</th>\n",
       "      <td>NaN</td>\n",
       "      <td>NaN</td>\n",
       "      <td>NaN</td>\n",
       "      <td>NaN</td>\n",
       "      <td>NaN</td>\n",
       "      <td>NaN</td>\n",
       "      <td>NaN</td>\n",
       "      <td>NaN</td>\n",
       "      <td>NaN</td>\n",
       "      <td>NaN</td>\n",
       "      <td>...</td>\n",
       "      <td>NaN</td>\n",
       "      <td>NaN</td>\n",
       "      <td>Total</td>\n",
       "      <td>NaN</td>\n",
       "      <td>NaN</td>\n",
       "      <td>NaN</td>\n",
       "      <td>NaN</td>\n",
       "      <td>NaN</td>\n",
       "      <td>NaN</td>\n",
       "      <td>NaN</td>\n",
       "    </tr>\n",
       "    <tr>\n",
       "      <th>5</th>\n",
       "      <td>Model Type Information</td>\n",
       "      <td>NaN</td>\n",
       "      <td>NaN</td>\n",
       "      <td>NaN</td>\n",
       "      <td>NaN</td>\n",
       "      <td>NaN</td>\n",
       "      <td>NaN</td>\n",
       "      <td>NaN</td>\n",
       "      <td>NaN</td>\n",
       "      <td>Charge Depleting Information (Electricity Oper...</td>\n",
       "      <td>...</td>\n",
       "      <td>Battery Charge Time</td>\n",
       "      <td>NaN</td>\n",
       "      <td>Range</td>\n",
       "      <td>PHEV Composite  MPG</td>\n",
       "      <td>NaN</td>\n",
       "      <td>NaN</td>\n",
       "      <td>Electric Driving Range</td>\n",
       "      <td>NaN</td>\n",
       "      <td>NaN</td>\n",
       "      <td>NaN</td>\n",
       "    </tr>\n",
       "    <tr>\n",
       "      <th>6</th>\n",
       "      <td>Model Yr</td>\n",
       "      <td>Mfr Name</td>\n",
       "      <td>Division</td>\n",
       "      <td>Carline</td>\n",
       "      <td>Verify Mfr Cd</td>\n",
       "      <td>Index (Model Type Index)</td>\n",
       "      <td>Eng Displ</td>\n",
       "      <td># Cyl</td>\n",
       "      <td>Transmission</td>\n",
       "      <td>City FE (Guide) - Conventional Fuel</td>\n",
       "      <td>...</td>\n",
       "      <td>240V Charge Time at 240 volts (hours)</td>\n",
       "      <td>120V Charge time at 120 Volts (hours)</td>\n",
       "      <td>PHEV Total Driving Range (rounded to nearest 1...</td>\n",
       "      <td>City PHEV Composite MPGe</td>\n",
       "      <td>Hwy PHEV Composite MPGe</td>\n",
       "      <td>Comb PHEV Composite MPGe</td>\n",
       "      <td>City Range (miles)</td>\n",
       "      <td>Hwy Range (miles)</td>\n",
       "      <td>Comb Range as shown on FE Label (miles)</td>\n",
       "      <td></td>\n",
       "    </tr>\n",
       "    <tr>\n",
       "      <th>7</th>\n",
       "      <td>NaN</td>\n",
       "      <td>NaN</td>\n",
       "      <td>NaN</td>\n",
       "      <td>NaN</td>\n",
       "      <td>NaN</td>\n",
       "      <td>NaN</td>\n",
       "      <td>NaN</td>\n",
       "      <td>NaN</td>\n",
       "      <td>NaN</td>\n",
       "      <td>NaN</td>\n",
       "      <td>...</td>\n",
       "      <td>NaN</td>\n",
       "      <td>NaN</td>\n",
       "      <td>NaN</td>\n",
       "      <td>NaN</td>\n",
       "      <td>NaN</td>\n",
       "      <td>NaN</td>\n",
       "      <td>NaN</td>\n",
       "      <td>NaN</td>\n",
       "      <td>NaN</td>\n",
       "      <td>NaN</td>\n",
       "    </tr>\n",
       "    <tr>\n",
       "      <th>8</th>\n",
       "      <td>NaN</td>\n",
       "      <td>NaN</td>\n",
       "      <td>NaN</td>\n",
       "      <td>NaN</td>\n",
       "      <td>NaN</td>\n",
       "      <td>NaN</td>\n",
       "      <td>NaN</td>\n",
       "      <td>NaN</td>\n",
       "      <td>NaN</td>\n",
       "      <td>NaN</td>\n",
       "      <td>...</td>\n",
       "      <td>2023 Audi e-tron GT</td>\n",
       "      <td>NaN</td>\n",
       "      <td>NaN</td>\n",
       "      <td>NaN</td>\n",
       "      <td>NaN</td>\n",
       "      <td>NaN</td>\n",
       "      <td>NaN</td>\n",
       "      <td>NaN</td>\n",
       "      <td>NaN</td>\n",
       "      <td>NaN</td>\n",
       "    </tr>\n",
       "    <tr>\n",
       "      <th>9</th>\n",
       "      <td>2023</td>\n",
       "      <td>Volkswagen Group of</td>\n",
       "      <td>Audi</td>\n",
       "      <td>e-tron GT</td>\n",
       "      <td>VGA</td>\n",
       "      <td>352</td>\n",
       "      <td>0</td>\n",
       "      <td>NaN</td>\n",
       "      <td>Auto(A2)</td>\n",
       "      <td>81</td>\n",
       "      <td>...</td>\n",
       "      <td>10.5</td>\n",
       "      <td>NaN</td>\n",
       "      <td>NaN</td>\n",
       "      <td>NaN</td>\n",
       "      <td>NaN</td>\n",
       "      <td>NaN</td>\n",
       "      <td>NaN</td>\n",
       "      <td>NaN</td>\n",
       "      <td>NaN</td>\n",
       "      <td>NaN</td>\n",
       "    </tr>\n",
       "  </tbody>\n",
       "</table>\n",
       "<p>10 rows × 166 columns</p>\n",
       "</div>"
      ],
      "text/plain": [
       "               Unnamed: 0           Unnamed: 1 Unnamed: 2 Unnamed: 3  \\\n",
       "0                     NaN                  NaN        NaN        NaN   \n",
       "1                     NaN                  NaN        NaN        NaN   \n",
       "2                     NaN                  NaN        NaN        NaN   \n",
       "3                     NaN                  NaN        NaN        NaN   \n",
       "4                     NaN                  NaN        NaN        NaN   \n",
       "5  Model Type Information                  NaN        NaN        NaN   \n",
       "6               Model Yr              Mfr Name   Division    Carline   \n",
       "7                     NaN                  NaN        NaN        NaN   \n",
       "8                     NaN                  NaN        NaN        NaN   \n",
       "9                    2023  Volkswagen Group of       Audi  e-tron GT   \n",
       "\n",
       "      Unnamed: 4                Unnamed: 5          Unnamed: 6 Unnamed: 7  \\\n",
       "0            NaN                       NaN  (Not Confidential)        NaN   \n",
       "1            NaN                       NaN                 NaN        NaN   \n",
       "2            NaN                       NaN                 NaN        NaN   \n",
       "3            NaN                       NaN                 NaN        NaN   \n",
       "4            NaN                       NaN                 NaN        NaN   \n",
       "5            NaN                       NaN                 NaN        NaN   \n",
       "6  Verify Mfr Cd  Index (Model Type Index)           Eng Displ      # Cyl   \n",
       "7            NaN                       NaN                 NaN        NaN   \n",
       "8            NaN                       NaN                 NaN        NaN   \n",
       "9            VGA                       352                   0        NaN   \n",
       "\n",
       "     Unnamed: 8                                         Unnamed: 9  ...  \\\n",
       "0           NaN                                                NaN  ...   \n",
       "1           NaN                                                NaN  ...   \n",
       "2           NaN                                                NaN  ...   \n",
       "3           NaN                                                NaN  ...   \n",
       "4           NaN                                                NaN  ...   \n",
       "5           NaN  Charge Depleting Information (Electricity Oper...  ...   \n",
       "6  Transmission                City FE (Guide) - Conventional Fuel  ...   \n",
       "7           NaN                                                NaN  ...   \n",
       "8           NaN                                                NaN  ...   \n",
       "9      Auto(A2)                                                 81  ...   \n",
       "\n",
       "                            Unnamed: 156  \\\n",
       "0                                    NaN   \n",
       "1                                    NaN   \n",
       "2                                    NaN   \n",
       "3                                    NaN   \n",
       "4                                    NaN   \n",
       "5                    Battery Charge Time   \n",
       "6  240V Charge Time at 240 volts (hours)   \n",
       "7                                    NaN   \n",
       "8                    2023 Audi e-tron GT   \n",
       "9                                   10.5   \n",
       "\n",
       "                            Unnamed: 157  \\\n",
       "0                                    NaN   \n",
       "1                                    NaN   \n",
       "2                                    NaN   \n",
       "3                                    NaN   \n",
       "4                                    NaN   \n",
       "5                                    NaN   \n",
       "6  120V Charge time at 120 Volts (hours)   \n",
       "7                                    NaN   \n",
       "8                                    NaN   \n",
       "9                                    NaN   \n",
       "\n",
       "                                        Unnamed: 158  \\\n",
       "0                                                NaN   \n",
       "1                                               PHEV   \n",
       "2                                                NaN   \n",
       "3                                                NaN   \n",
       "4                                             Total    \n",
       "5                                              Range   \n",
       "6  PHEV Total Driving Range (rounded to nearest 1...   \n",
       "7                                                NaN   \n",
       "8                                                NaN   \n",
       "9                                                NaN   \n",
       "\n",
       "               Unnamed: 159             Unnamed: 160  \\\n",
       "0                       NaN                      NaN   \n",
       "1                       NaN                      NaN   \n",
       "2                       NaN                      NaN   \n",
       "3                       NaN                      NaN   \n",
       "4                       NaN                      NaN   \n",
       "5       PHEV Composite  MPG                      NaN   \n",
       "6  City PHEV Composite MPGe  Hwy PHEV Composite MPGe   \n",
       "7                       NaN                      NaN   \n",
       "8                       NaN                      NaN   \n",
       "9                       NaN                      NaN   \n",
       "\n",
       "               Unnamed: 161            Unnamed: 162       Unnamed: 163  \\\n",
       "0                       NaN                     NaN                NaN   \n",
       "1                       NaN                     NaN                NaN   \n",
       "2                       NaN                     NaN                NaN   \n",
       "3                       NaN                     NaN                NaN   \n",
       "4                       NaN                     NaN                NaN   \n",
       "5                       NaN  Electric Driving Range                NaN   \n",
       "6  Comb PHEV Composite MPGe      City Range (miles)  Hwy Range (miles)   \n",
       "7                       NaN                     NaN                NaN   \n",
       "8                       NaN                     NaN                NaN   \n",
       "9                       NaN                     NaN                NaN   \n",
       "\n",
       "                              Unnamed: 164 Unnamed: 165  \n",
       "0                                      NaN          NaN  \n",
       "1                                      NaN          NaN  \n",
       "2                                      NaN          NaN  \n",
       "3                                      NaN          NaN  \n",
       "4                                      NaN          NaN  \n",
       "5                                      NaN          NaN  \n",
       "6  Comb Range as shown on FE Label (miles)               \n",
       "7                                      NaN          NaN  \n",
       "8                                      NaN          NaN  \n",
       "9                                      NaN          NaN  \n",
       "\n",
       "[10 rows x 166 columns]"
      ]
     },
     "execution_count": 10,
     "metadata": {},
     "output_type": "execute_result"
    }
   ],
   "source": [
    "evs_init = pd.read_excel('2023_sales_autos.xlsx', sheet_name='EV')\n",
    "evs_init.head(10)"
   ]
  },
  {
   "cell_type": "markdown",
   "metadata": {},
   "source": [
    "### Clean Data"
   ]
  },
  {
   "cell_type": "code",
   "execution_count": 17,
   "metadata": {},
   "outputs": [
    {
     "data": {
      "text/html": [
       "<div>\n",
       "<style scoped>\n",
       "    .dataframe tbody tr th:only-of-type {\n",
       "        vertical-align: middle;\n",
       "    }\n",
       "\n",
       "    .dataframe tbody tr th {\n",
       "        vertical-align: top;\n",
       "    }\n",
       "\n",
       "    .dataframe thead th {\n",
       "        text-align: right;\n",
       "    }\n",
       "</style>\n",
       "<table border=\"1\" class=\"dataframe\">\n",
       "  <thead>\n",
       "    <tr style=\"text-align: right;\">\n",
       "      <th>6</th>\n",
       "      <th>Model Yr</th>\n",
       "      <th>Mfr Name</th>\n",
       "      <th>Division</th>\n",
       "      <th>Carline</th>\n",
       "      <th>Verify Mfr Cd</th>\n",
       "      <th>Index (Model Type Index)</th>\n",
       "      <th>Eng Displ</th>\n",
       "      <th># Cyl</th>\n",
       "      <th>Transmission</th>\n",
       "      <th>City FE (Guide) - Conventional Fuel</th>\n",
       "      <th>...</th>\n",
       "      <th>240V Charge Time at 240 volts (hours)</th>\n",
       "      <th>120V Charge time at 120 Volts (hours)</th>\n",
       "      <th>PHEV Total Driving Range (rounded to nearest 10 miles)DISTANCE</th>\n",
       "      <th>City PHEV Composite MPGe</th>\n",
       "      <th>Hwy PHEV Composite MPGe</th>\n",
       "      <th>Comb PHEV Composite MPGe</th>\n",
       "      <th>City Range (miles)</th>\n",
       "      <th>Hwy Range (miles)</th>\n",
       "      <th>Comb Range as shown on FE Label (miles)</th>\n",
       "      <th></th>\n",
       "    </tr>\n",
       "  </thead>\n",
       "  <tbody>\n",
       "    <tr>\n",
       "      <th>111</th>\n",
       "      <td>2023</td>\n",
       "      <td>Hyundai</td>\n",
       "      <td>GENESIS</td>\n",
       "      <td>GV60 ADVANCE</td>\n",
       "      <td>HYX</td>\n",
       "      <td>3</td>\n",
       "      <td>0</td>\n",
       "      <td>NaN</td>\n",
       "      <td>Auto(A1)</td>\n",
       "      <td>103</td>\n",
       "      <td>...</td>\n",
       "      <td>7.2</td>\n",
       "      <td>NaN</td>\n",
       "      <td>NaN</td>\n",
       "      <td>NaN</td>\n",
       "      <td>NaN</td>\n",
       "      <td>NaN</td>\n",
       "      <td>267.2712</td>\n",
       "      <td>223.9097</td>\n",
       "      <td>248</td>\n",
       "      <td>NaN</td>\n",
       "    </tr>\n",
       "    <tr>\n",
       "      <th>57</th>\n",
       "      <td>2023</td>\n",
       "      <td>BMW</td>\n",
       "      <td>BMW</td>\n",
       "      <td>iX xDrive50 (21'' Wheels)</td>\n",
       "      <td>BMX</td>\n",
       "      <td>121</td>\n",
       "      <td>0</td>\n",
       "      <td>NaN</td>\n",
       "      <td>Auto(A1)</td>\n",
       "      <td>82</td>\n",
       "      <td>...</td>\n",
       "      <td>12</td>\n",
       "      <td>NaN</td>\n",
       "      <td>NaN</td>\n",
       "      <td>NaN</td>\n",
       "      <td>NaN</td>\n",
       "      <td>NaN</td>\n",
       "      <td>NaN</td>\n",
       "      <td>NaN</td>\n",
       "      <td>NaN</td>\n",
       "      <td>NaN</td>\n",
       "    </tr>\n",
       "    <tr>\n",
       "      <th>121</th>\n",
       "      <td>2023</td>\n",
       "      <td>Jaguar Land Rover L</td>\n",
       "      <td>Jaguar</td>\n",
       "      <td>I-PACE EV400 (20 inch tires)</td>\n",
       "      <td>JLX</td>\n",
       "      <td>591</td>\n",
       "      <td>0</td>\n",
       "      <td>NaN</td>\n",
       "      <td>Auto(A1)</td>\n",
       "      <td>38</td>\n",
       "      <td>...</td>\n",
       "      <td>13</td>\n",
       "      <td>NaN</td>\n",
       "      <td>NaN</td>\n",
       "      <td>NaN</td>\n",
       "      <td>NaN</td>\n",
       "      <td>NaN</td>\n",
       "      <td>NaN</td>\n",
       "      <td>NaN</td>\n",
       "      <td>NaN</td>\n",
       "      <td>NaN</td>\n",
       "    </tr>\n",
       "  </tbody>\n",
       "</table>\n",
       "<p>3 rows × 166 columns</p>\n",
       "</div>"
      ],
      "text/plain": [
       "6   Model Yr             Mfr Name Division                       Carline  \\\n",
       "111     2023              Hyundai  GENESIS                  GV60 ADVANCE   \n",
       "57      2023                  BMW      BMW     iX xDrive50 (21'' Wheels)   \n",
       "121     2023  Jaguar Land Rover L   Jaguar  I-PACE EV400 (20 inch tires)   \n",
       "\n",
       "6   Verify Mfr Cd Index (Model Type Index) Eng Displ # Cyl Transmission  \\\n",
       "111           HYX                        3         0   NaN     Auto(A1)   \n",
       "57            BMX                      121         0   NaN     Auto(A1)   \n",
       "121           JLX                      591         0   NaN     Auto(A1)   \n",
       "\n",
       "6   City FE (Guide) - Conventional Fuel  ...  \\\n",
       "111                                 103  ...   \n",
       "57                                   82  ...   \n",
       "121                                  38  ...   \n",
       "\n",
       "6   240V Charge Time at 240 volts (hours)  \\\n",
       "111                                   7.2   \n",
       "57                                     12   \n",
       "121                                    13   \n",
       "\n",
       "6   120V Charge time at 120 Volts (hours)  \\\n",
       "111                                   NaN   \n",
       "57                                    NaN   \n",
       "121                                   NaN   \n",
       "\n",
       "6   PHEV Total Driving Range (rounded to nearest 10 miles)DISTANCE  \\\n",
       "111                                                NaN               \n",
       "57                                                 NaN               \n",
       "121                                                NaN               \n",
       "\n",
       "6   City PHEV Composite MPGe Hwy PHEV Composite MPGe Comb PHEV Composite MPGe  \\\n",
       "111                      NaN                     NaN                      NaN   \n",
       "57                       NaN                     NaN                      NaN   \n",
       "121                      NaN                     NaN                      NaN   \n",
       "\n",
       "6   City Range (miles) Hwy Range (miles)  \\\n",
       "111           267.2712          223.9097   \n",
       "57                 NaN               NaN   \n",
       "121                NaN               NaN   \n",
       "\n",
       "6   Comb Range as shown on FE Label (miles)       \n",
       "111                                     248  NaN  \n",
       "57                                      NaN  NaN  \n",
       "121                                     NaN  NaN  \n",
       "\n",
       "[3 rows x 166 columns]"
      ]
     },
     "execution_count": 17,
     "metadata": {},
     "output_type": "execute_result"
    }
   ],
   "source": [
    "evs = evs_init.copy()\n",
    "evs.columns = evs.loc[6,:].str.strip()\n",
    "evs = evs.loc[7:,:]\n",
    "evs = evs[evs['Model Yr'].notna()]\n",
    "evs.sample(3)"
   ]
  },
  {
   "cell_type": "markdown",
   "metadata": {},
   "source": [
    "#### Eliminar columnas de Combustion y PHEV"
   ]
  },
  {
   "cell_type": "code",
   "execution_count": 39,
   "metadata": {},
   "outputs": [],
   "source": [
    "evs = evs.dropna(axis=1, how='all')"
   ]
  },
  {
   "cell_type": "code",
   "execution_count": 40,
   "metadata": {},
   "outputs": [
    {
     "data": {
      "text/html": [
       "<div>\n",
       "<style scoped>\n",
       "    .dataframe tbody tr th:only-of-type {\n",
       "        vertical-align: middle;\n",
       "    }\n",
       "\n",
       "    .dataframe tbody tr th {\n",
       "        vertical-align: top;\n",
       "    }\n",
       "\n",
       "    .dataframe thead th {\n",
       "        text-align: right;\n",
       "    }\n",
       "</style>\n",
       "<table border=\"1\" class=\"dataframe\">\n",
       "  <thead>\n",
       "    <tr style=\"text-align: right;\">\n",
       "      <th>6</th>\n",
       "      <th>Model Yr</th>\n",
       "      <th>Mfr Name</th>\n",
       "      <th>Division</th>\n",
       "      <th>Carline</th>\n",
       "      <th>Verify Mfr Cd</th>\n",
       "      <th>Index (Model Type Index)</th>\n",
       "      <th>Eng Displ</th>\n",
       "      <th>Transmission</th>\n",
       "      <th>City FE (Guide) - Conventional Fuel</th>\n",
       "      <th>Hwy FE (Guide) - Conventional Fuel</th>\n",
       "      <th>...</th>\n",
       "      <th>#1 Smog Rating Test Group</th>\n",
       "      <th>#1 Mfr Smog Rating (Mfr Smog 1-10 Rating on Label for Test Group 1)</th>\n",
       "      <th>$ You Save over 5 years (amount saved in fuel costs over 5 years - on label)</th>\n",
       "      <th>City CO2 Rounded Adjusted</th>\n",
       "      <th>Hwy CO2 Rounded Adjusted</th>\n",
       "      <th>Comb CO2 Rounded Adjusted (as shown on FE Label)</th>\n",
       "      <th>240V Charge Time at 240 volts (hours)</th>\n",
       "      <th>City Range (miles)</th>\n",
       "      <th>Hwy Range (miles)</th>\n",
       "      <th>Comb Range as shown on FE Label (miles)</th>\n",
       "    </tr>\n",
       "  </thead>\n",
       "  <tbody>\n",
       "    <tr>\n",
       "      <th>9</th>\n",
       "      <td>2023</td>\n",
       "      <td>Volkswagen Group of</td>\n",
       "      <td>Audi</td>\n",
       "      <td>e-tron GT</td>\n",
       "      <td>VGA</td>\n",
       "      <td>352</td>\n",
       "      <td>0</td>\n",
       "      <td>Auto(A2)</td>\n",
       "      <td>81</td>\n",
       "      <td>83</td>\n",
       "      <td>...</td>\n",
       "      <td>PVGAV00.0NZG</td>\n",
       "      <td>10</td>\n",
       "      <td>3750</td>\n",
       "      <td>0</td>\n",
       "      <td>0</td>\n",
       "      <td>0</td>\n",
       "      <td>10.5</td>\n",
       "      <td>NaN</td>\n",
       "      <td>NaN</td>\n",
       "      <td>NaN</td>\n",
       "    </tr>\n",
       "    <tr>\n",
       "      <th>10</th>\n",
       "      <td>2023</td>\n",
       "      <td>Volkswagen Group of</td>\n",
       "      <td>Audi</td>\n",
       "      <td>e-tron GT</td>\n",
       "      <td>VGA</td>\n",
       "      <td>352</td>\n",
       "      <td>0</td>\n",
       "      <td>Auto(A2)</td>\n",
       "      <td>42</td>\n",
       "      <td>41</td>\n",
       "      <td>...</td>\n",
       "      <td>PVGAV00.0NZG</td>\n",
       "      <td>10</td>\n",
       "      <td>3750</td>\n",
       "      <td>0</td>\n",
       "      <td>0</td>\n",
       "      <td>0</td>\n",
       "      <td>10.5</td>\n",
       "      <td>NaN</td>\n",
       "      <td>NaN</td>\n",
       "      <td>NaN</td>\n",
       "    </tr>\n",
       "    <tr>\n",
       "      <th>12</th>\n",
       "      <td>2023</td>\n",
       "      <td>Volkswagen Group of</td>\n",
       "      <td>Audi</td>\n",
       "      <td>RS e-tron GT</td>\n",
       "      <td>VGA</td>\n",
       "      <td>353</td>\n",
       "      <td>0</td>\n",
       "      <td>Auto(A2)</td>\n",
       "      <td>79</td>\n",
       "      <td>82</td>\n",
       "      <td>...</td>\n",
       "      <td>PVGAV00.0NZG</td>\n",
       "      <td>10</td>\n",
       "      <td>3500</td>\n",
       "      <td>0</td>\n",
       "      <td>0</td>\n",
       "      <td>0</td>\n",
       "      <td>10.5</td>\n",
       "      <td>NaN</td>\n",
       "      <td>NaN</td>\n",
       "      <td>NaN</td>\n",
       "    </tr>\n",
       "    <tr>\n",
       "      <th>13</th>\n",
       "      <td>2023</td>\n",
       "      <td>Volkswagen Group of</td>\n",
       "      <td>Audi</td>\n",
       "      <td>RS e-tron GT</td>\n",
       "      <td>VGA</td>\n",
       "      <td>353</td>\n",
       "      <td>0</td>\n",
       "      <td>Auto(A2)</td>\n",
       "      <td>42</td>\n",
       "      <td>41</td>\n",
       "      <td>...</td>\n",
       "      <td>PVGAV00.0NZG</td>\n",
       "      <td>10</td>\n",
       "      <td>3500</td>\n",
       "      <td>0</td>\n",
       "      <td>0</td>\n",
       "      <td>0</td>\n",
       "      <td>10.5</td>\n",
       "      <td>NaN</td>\n",
       "      <td>NaN</td>\n",
       "      <td>NaN</td>\n",
       "    </tr>\n",
       "    <tr>\n",
       "      <th>15</th>\n",
       "      <td>2023</td>\n",
       "      <td>Volkswagen Group of</td>\n",
       "      <td>Audi</td>\n",
       "      <td>Q4 e-tron</td>\n",
       "      <td>VGA</td>\n",
       "      <td>360</td>\n",
       "      <td>0</td>\n",
       "      <td>Auto(A1)</td>\n",
       "      <td>112</td>\n",
       "      <td>94</td>\n",
       "      <td>...</td>\n",
       "      <td>PVGAV00.0NZ4</td>\n",
       "      <td>10</td>\n",
       "      <td>4500</td>\n",
       "      <td>0</td>\n",
       "      <td>0</td>\n",
       "      <td>0</td>\n",
       "      <td>9</td>\n",
       "      <td>NaN</td>\n",
       "      <td>NaN</td>\n",
       "      <td>NaN</td>\n",
       "    </tr>\n",
       "    <tr>\n",
       "      <th>...</th>\n",
       "      <td>...</td>\n",
       "      <td>...</td>\n",
       "      <td>...</td>\n",
       "      <td>...</td>\n",
       "      <td>...</td>\n",
       "      <td>...</td>\n",
       "      <td>...</td>\n",
       "      <td>...</td>\n",
       "      <td>...</td>\n",
       "      <td>...</td>\n",
       "      <td>...</td>\n",
       "      <td>...</td>\n",
       "      <td>...</td>\n",
       "      <td>...</td>\n",
       "      <td>...</td>\n",
       "      <td>...</td>\n",
       "      <td>...</td>\n",
       "      <td>...</td>\n",
       "      <td>...</td>\n",
       "      <td>...</td>\n",
       "      <td>...</td>\n",
       "    </tr>\n",
       "    <tr>\n",
       "      <th>340</th>\n",
       "      <td>2023</td>\n",
       "      <td>Volkswagen Group of</td>\n",
       "      <td>Volkswagen</td>\n",
       "      <td>ID.4 S</td>\n",
       "      <td>VGA</td>\n",
       "      <td>310</td>\n",
       "      <td>0</td>\n",
       "      <td>Auto(A1)</td>\n",
       "      <td>29</td>\n",
       "      <td>34</td>\n",
       "      <td>...</td>\n",
       "      <td>PVGAT00.0VZR</td>\n",
       "      <td>10</td>\n",
       "      <td>4750</td>\n",
       "      <td>0</td>\n",
       "      <td>0</td>\n",
       "      <td>0</td>\n",
       "      <td>6</td>\n",
       "      <td>NaN</td>\n",
       "      <td>NaN</td>\n",
       "      <td>NaN</td>\n",
       "    </tr>\n",
       "    <tr>\n",
       "      <th>342</th>\n",
       "      <td>2023</td>\n",
       "      <td>Volvo</td>\n",
       "      <td>Volvo Cars of North America, LLC</td>\n",
       "      <td>C40 Recharge twin</td>\n",
       "      <td>VVX</td>\n",
       "      <td>204</td>\n",
       "      <td>0</td>\n",
       "      <td>Auto(A1)</td>\n",
       "      <td>94</td>\n",
       "      <td>80</td>\n",
       "      <td>...</td>\n",
       "      <td>PVVXV00.0Z0A</td>\n",
       "      <td>10</td>\n",
       "      <td>4000</td>\n",
       "      <td>0</td>\n",
       "      <td>0</td>\n",
       "      <td>0</td>\n",
       "      <td>8</td>\n",
       "      <td>NaN</td>\n",
       "      <td>NaN</td>\n",
       "      <td>NaN</td>\n",
       "    </tr>\n",
       "    <tr>\n",
       "      <th>343</th>\n",
       "      <td>2023</td>\n",
       "      <td>Volvo</td>\n",
       "      <td>Volvo Cars of North America, LLC</td>\n",
       "      <td>C40 Recharge twin</td>\n",
       "      <td>VVX</td>\n",
       "      <td>204</td>\n",
       "      <td>0</td>\n",
       "      <td>Auto(A1)</td>\n",
       "      <td>36</td>\n",
       "      <td>42</td>\n",
       "      <td>...</td>\n",
       "      <td>PVVXV00.0Z0A</td>\n",
       "      <td>10</td>\n",
       "      <td>4000</td>\n",
       "      <td>0</td>\n",
       "      <td>0</td>\n",
       "      <td>0</td>\n",
       "      <td>8</td>\n",
       "      <td>NaN</td>\n",
       "      <td>NaN</td>\n",
       "      <td>NaN</td>\n",
       "    </tr>\n",
       "    <tr>\n",
       "      <th>345</th>\n",
       "      <td>2023</td>\n",
       "      <td>Volvo</td>\n",
       "      <td>Volvo Cars of North America, LLC</td>\n",
       "      <td>XC40 Recharge twin</td>\n",
       "      <td>VVX</td>\n",
       "      <td>203</td>\n",
       "      <td>0</td>\n",
       "      <td>Auto(A1)</td>\n",
       "      <td>92</td>\n",
       "      <td>79</td>\n",
       "      <td>...</td>\n",
       "      <td>PVVXV00.0Z0A</td>\n",
       "      <td>10</td>\n",
       "      <td>3750</td>\n",
       "      <td>0</td>\n",
       "      <td>0</td>\n",
       "      <td>0</td>\n",
       "      <td>8</td>\n",
       "      <td>NaN</td>\n",
       "      <td>NaN</td>\n",
       "      <td>NaN</td>\n",
       "    </tr>\n",
       "    <tr>\n",
       "      <th>346</th>\n",
       "      <td>2023</td>\n",
       "      <td>Volvo</td>\n",
       "      <td>Volvo Cars of North America, LLC</td>\n",
       "      <td>XC40 Recharge twin</td>\n",
       "      <td>VVX</td>\n",
       "      <td>203</td>\n",
       "      <td>0</td>\n",
       "      <td>Auto(A1)</td>\n",
       "      <td>37</td>\n",
       "      <td>43</td>\n",
       "      <td>...</td>\n",
       "      <td>PVVXV00.0Z0A</td>\n",
       "      <td>10</td>\n",
       "      <td>3750</td>\n",
       "      <td>0</td>\n",
       "      <td>0</td>\n",
       "      <td>0</td>\n",
       "      <td>8</td>\n",
       "      <td>NaN</td>\n",
       "      <td>NaN</td>\n",
       "      <td>NaN</td>\n",
       "    </tr>\n",
       "  </tbody>\n",
       "</table>\n",
       "<p>226 rows × 81 columns</p>\n",
       "</div>"
      ],
      "text/plain": [
       "6   Model Yr             Mfr Name                          Division  \\\n",
       "9       2023  Volkswagen Group of                              Audi   \n",
       "10      2023  Volkswagen Group of                              Audi   \n",
       "12      2023  Volkswagen Group of                              Audi   \n",
       "13      2023  Volkswagen Group of                              Audi   \n",
       "15      2023  Volkswagen Group of                              Audi   \n",
       "..       ...                  ...                               ...   \n",
       "340     2023  Volkswagen Group of                        Volkswagen   \n",
       "342     2023                Volvo  Volvo Cars of North America, LLC   \n",
       "343     2023                Volvo  Volvo Cars of North America, LLC   \n",
       "345     2023                Volvo  Volvo Cars of North America, LLC   \n",
       "346     2023                Volvo  Volvo Cars of North America, LLC   \n",
       "\n",
       "6               Carline Verify Mfr Cd Index (Model Type Index) Eng Displ  \\\n",
       "9             e-tron GT           VGA                      352         0   \n",
       "10            e-tron GT           VGA                      352         0   \n",
       "12         RS e-tron GT           VGA                      353         0   \n",
       "13         RS e-tron GT           VGA                      353         0   \n",
       "15            Q4 e-tron           VGA                      360         0   \n",
       "..                  ...           ...                      ...       ...   \n",
       "340              ID.4 S           VGA                      310         0   \n",
       "342   C40 Recharge twin           VVX                      204         0   \n",
       "343   C40 Recharge twin           VVX                      204         0   \n",
       "345  XC40 Recharge twin           VVX                      203         0   \n",
       "346  XC40 Recharge twin           VVX                      203         0   \n",
       "\n",
       "6   Transmission City FE (Guide) - Conventional Fuel  \\\n",
       "9       Auto(A2)                                  81   \n",
       "10      Auto(A2)                                  42   \n",
       "12      Auto(A2)                                  79   \n",
       "13      Auto(A2)                                  42   \n",
       "15      Auto(A1)                                 112   \n",
       "..           ...                                 ...   \n",
       "340     Auto(A1)                                  29   \n",
       "342     Auto(A1)                                  94   \n",
       "343     Auto(A1)                                  36   \n",
       "345     Auto(A1)                                  92   \n",
       "346     Auto(A1)                                  37   \n",
       "\n",
       "6   Hwy FE (Guide) - Conventional Fuel  ... #1 Smog Rating Test Group  \\\n",
       "9                                   83  ...              PVGAV00.0NZG   \n",
       "10                                  41  ...              PVGAV00.0NZG   \n",
       "12                                  82  ...              PVGAV00.0NZG   \n",
       "13                                  41  ...              PVGAV00.0NZG   \n",
       "15                                  94  ...              PVGAV00.0NZ4   \n",
       "..                                 ...  ...                       ...   \n",
       "340                                 34  ...              PVGAT00.0VZR   \n",
       "342                                 80  ...              PVVXV00.0Z0A   \n",
       "343                                 42  ...              PVVXV00.0Z0A   \n",
       "345                                 79  ...              PVVXV00.0Z0A   \n",
       "346                                 43  ...              PVVXV00.0Z0A   \n",
       "\n",
       "6   #1 Mfr Smog Rating (Mfr Smog 1-10 Rating on Label for Test Group 1)  \\\n",
       "9                                                   10                    \n",
       "10                                                  10                    \n",
       "12                                                  10                    \n",
       "13                                                  10                    \n",
       "15                                                  10                    \n",
       "..                                                 ...                    \n",
       "340                                                 10                    \n",
       "342                                                 10                    \n",
       "343                                                 10                    \n",
       "345                                                 10                    \n",
       "346                                                 10                    \n",
       "\n",
       "6   $ You Save over 5 years (amount saved in fuel costs over 5 years - on label)  \\\n",
       "9                                                 3750                             \n",
       "10                                                3750                             \n",
       "12                                                3500                             \n",
       "13                                                3500                             \n",
       "15                                                4500                             \n",
       "..                                                 ...                             \n",
       "340                                               4750                             \n",
       "342                                               4000                             \n",
       "343                                               4000                             \n",
       "345                                               3750                             \n",
       "346                                               3750                             \n",
       "\n",
       "6   City CO2 Rounded Adjusted Hwy CO2 Rounded Adjusted  \\\n",
       "9                           0                        0   \n",
       "10                          0                        0   \n",
       "12                          0                        0   \n",
       "13                          0                        0   \n",
       "15                          0                        0   \n",
       "..                        ...                      ...   \n",
       "340                         0                        0   \n",
       "342                         0                        0   \n",
       "343                         0                        0   \n",
       "345                         0                        0   \n",
       "346                         0                        0   \n",
       "\n",
       "6   Comb CO2 Rounded Adjusted (as shown on FE Label)  \\\n",
       "9                                                  0   \n",
       "10                                                 0   \n",
       "12                                                 0   \n",
       "13                                                 0   \n",
       "15                                                 0   \n",
       "..                                               ...   \n",
       "340                                                0   \n",
       "342                                                0   \n",
       "343                                                0   \n",
       "345                                                0   \n",
       "346                                                0   \n",
       "\n",
       "6   240V Charge Time at 240 volts (hours) City Range (miles)  \\\n",
       "9                                    10.5                NaN   \n",
       "10                                   10.5                NaN   \n",
       "12                                   10.5                NaN   \n",
       "13                                   10.5                NaN   \n",
       "15                                      9                NaN   \n",
       "..                                    ...                ...   \n",
       "340                                     6                NaN   \n",
       "342                                     8                NaN   \n",
       "343                                     8                NaN   \n",
       "345                                     8                NaN   \n",
       "346                                     8                NaN   \n",
       "\n",
       "6   Hwy Range (miles) Comb Range as shown on FE Label (miles)  \n",
       "9                 NaN                                     NaN  \n",
       "10                NaN                                     NaN  \n",
       "12                NaN                                     NaN  \n",
       "13                NaN                                     NaN  \n",
       "15                NaN                                     NaN  \n",
       "..                ...                                     ...  \n",
       "340               NaN                                     NaN  \n",
       "342               NaN                                     NaN  \n",
       "343               NaN                                     NaN  \n",
       "345               NaN                                     NaN  \n",
       "346               NaN                                     NaN  \n",
       "\n",
       "[226 rows x 81 columns]"
      ]
     },
     "execution_count": 40,
     "metadata": {},
     "output_type": "execute_result"
    }
   ],
   "source": [
    "evs"
   ]
  },
  {
   "cell_type": "code",
   "execution_count": 46,
   "metadata": {},
   "outputs": [
    {
     "data": {
      "text/plain": [
       "Division\n",
       "Porsche                             24\n",
       "BMW                                 22\n",
       "Tesla Motors                        20\n",
       "Ford                                20\n",
       "Audi                                18\n",
       "Lucid USA Inc.                      18\n",
       "Volkswagen                          12\n",
       "Rivian                              12\n",
       "KIA                                 12\n",
       "NISSAN                              10\n",
       "TOYOTA                               8\n",
       "Polestar Automotive USA Inc          8\n",
       "Mercedes-Benz                        8\n",
       "GENESIS                              6\n",
       "Jaguar                               4\n",
       "Subaru                               4\n",
       "Chevrolet                            4\n",
       "Vinfast                              4\n",
       "Volvo Cars of North America, LLC     4\n",
       "Mini                                 2\n",
       "Lordstown                            2\n",
       "HYUNDAI MOTOR COMPANY                2\n",
       "Cadillac                             2\n",
       "Name: Model Yr, dtype: int64"
      ]
     },
     "execution_count": 46,
     "metadata": {},
     "output_type": "execute_result"
    }
   ],
   "source": [
    "evs.groupby('Division')['Model Yr'].count().sort_values(ascending=False)"
   ]
  },
  {
   "cell_type": "code",
   "execution_count": 57,
   "metadata": {},
   "outputs": [
    {
     "data": {
      "text/plain": [
       "0"
      ]
     },
     "execution_count": 57,
     "metadata": {},
     "output_type": "execute_result"
    }
   ],
   "source": [
    "evs['Comb FE (Guide) - Conventional Fuel'].isna().sum()"
   ]
  },
  {
   "cell_type": "code",
   "execution_count": 49,
   "metadata": {},
   "outputs": [
    {
     "data": {
      "text/plain": [
       "['Model Yr',\n",
       " 'Mfr Name',\n",
       " 'Division',\n",
       " 'Carline',\n",
       " 'Verify Mfr Cd',\n",
       " 'Index (Model Type Index)',\n",
       " 'Eng Displ',\n",
       " 'Transmission',\n",
       " 'City FE (Guide) - Conventional Fuel',\n",
       " 'Hwy FE (Guide) - Conventional Fuel',\n",
       " 'Comb FE (Guide) - Conventional Fuel',\n",
       " 'City Unadj FE - Conventional Fuel',\n",
       " 'Hwy Unadj FE - Conventional Fuel',\n",
       " 'Comb Unadj FE - Conventional Fuel',\n",
       " 'City Unrd Adj FE - Conventional Fuel',\n",
       " 'Hwy Unrd Adj FE - Conventional Fuel',\n",
       " 'Comb Unrd Adj FE - Conventional Fuel',\n",
       " 'Guzzler?',\n",
       " 'Trans',\n",
       " 'Trans Desc',\n",
       " 'Trans, Other',\n",
       " '# Gears',\n",
       " 'Trans Lockup',\n",
       " 'Trans Creeper Gear',\n",
       " 'Drive Sys',\n",
       " 'Drive Desc',\n",
       " 'Range1 - Model Type Driving Range - Conventional Fuel',\n",
       " 'Fuel Usage  - Conventional Fuel',\n",
       " 'Fuel Usage Desc - Conventional Fuel',\n",
       " 'Fuel Unit - Conventional Fuel',\n",
       " 'Fuel Unit Desc - Conventional Fuel',\n",
       " 'Gas Guzzler Exempt (Where Truck = 1975 NHTSA truck definition)',\n",
       " 'Gas Guzzler Exempt Desc (Where Truck = 1975 NHTSA truck definition)',\n",
       " '4Dr Pass Vol',\n",
       " '4Dr Lugg Vol',\n",
       " 'Htchbk Pass Vol',\n",
       " 'Htchbk Lugg Vol',\n",
       " 'Annual Fuel1 Cost - Conventional Fuel',\n",
       " 'EPA Calculated Annual Fuel Cost - Conventional Fuel -----  Annual fuel cost error. Please revise Verify.',\n",
       " 'Carline Class',\n",
       " 'Carline Class Desc',\n",
       " 'Car/Truck Category - Cash for Clunkers Bill.',\n",
       " 'Calc Approach Desc',\n",
       " 'Release Date (gold fill means release date is after 8/2/2012)',\n",
       " 'EPA FE Label Dataset ID',\n",
       " 'Unique Label?',\n",
       " 'Label Recalc?',\n",
       " 'Suppressed?',\n",
       " 'Police/Emerg?',\n",
       " 'Energy Storage Device Desc',\n",
       " '# Batteries',\n",
       " 'Battery Type Desc',\n",
       " 'Total Voltage for Battery Pack(s)',\n",
       " 'Batt Energy Capacity (Amp-hrs)',\n",
       " 'Batt Specific Energy (Watt-hr/kg)',\n",
       " 'Batt Charger Type Desc',\n",
       " 'Regen Braking Type Desc',\n",
       " 'Regen Braking Wheels Source (Front, Rear, Both)',\n",
       " 'Driver Cntrl Regen Braking?',\n",
       " 'HEV-EV Comments',\n",
       " '# Drive Motor Gen',\n",
       " 'Motor Gen Type Desc',\n",
       " 'Motor Gen Type, If Other',\n",
       " 'Rated Motor Gen Power (kW)',\n",
       " 'Fuel Cell Vehicle (Y or N)',\n",
       " 'Off Board Charge Capable (Y or N)',\n",
       " 'Stop/Start System (Engine Management System) Code',\n",
       " 'Stop/Start System (Engine Management System)  Description',\n",
       " 'Model Type Desc (MFR entered)',\n",
       " 'FE Rating (1-10 rating on Label)',\n",
       " 'GHG Rating (1-10 rating on Label)',\n",
       " '#1 Smog Rating Test Group',\n",
       " '#1 Mfr Smog Rating (Mfr Smog 1-10 Rating on Label for Test Group 1)',\n",
       " '$ You Save over 5 years (amount saved in fuel costs over 5 years - on label)',\n",
       " 'City CO2 Rounded Adjusted',\n",
       " 'Hwy CO2 Rounded Adjusted',\n",
       " 'Comb CO2 Rounded Adjusted (as shown on FE Label)',\n",
       " '240V Charge Time at 240 volts (hours)',\n",
       " 'City Range (miles)',\n",
       " 'Hwy Range (miles)',\n",
       " 'Comb Range as shown on FE Label (miles)']"
      ]
     },
     "execution_count": 49,
     "metadata": {},
     "output_type": "execute_result"
    }
   ],
   "source": [
    "list(evs.columns)"
   ]
  },
  {
   "cell_type": "code",
   "execution_count": 54,
   "metadata": {},
   "outputs": [
    {
     "data": {
      "text/plain": [
       "Both            182\n",
       "Front Wheels     26\n",
       "Rear Wheels      18\n",
       "Name: Regen Braking Wheels Source (Front, Rear, Both), dtype: int64"
      ]
     },
     "execution_count": 54,
     "metadata": {},
     "output_type": "execute_result"
    }
   ],
   "source": [
    "evs['Regen Braking Wheels Source (Front, Rear, Both)'].value_counts()"
   ]
  },
  {
   "cell_type": "code",
   "execution_count": 72,
   "metadata": {},
   "outputs": [
    {
     "data": {
      "application/vnd.plotly.v1+json": {
       "config": {
        "plotlyServerURL": "https://plot.ly"
       },
       "data": [
        {
         "alignmentgroup": "True",
         "hovertemplate": "Division=%{x}<br>cant=%{y}<br>Batt Specific Energy (Watt-hr/kg)=%{marker.color}<extra></extra>",
         "legendgroup": "",
         "marker": {
          "color": [
           148,
           171,
           169,
           167.6,
           166,
           134.5,
           156,
           161.4,
           154,
           149,
           147,
           166.3,
           162.2,
           180,
           187,
           186,
           142.8,
           165,
           274,
           251,
           274,
           159.1,
           156,
           148.3,
           143.4,
           174,
           153.5,
           159,
           210,
           160.9,
           149.4,
           156.7,
           141.3,
           159,
           159.6,
           126,
           161.6,
           198,
           146.3,
           137.6,
           153,
           132,
           151.4
          ],
          "coloraxis": "coloraxis",
          "pattern": {
           "shape": ""
          }
         },
         "name": "",
         "offsetgroup": "",
         "orientation": "v",
         "showlegend": false,
         "textposition": "auto",
         "type": "bar",
         "x": [
          "Porsche",
          "Lucid USA Inc.",
          "Rivian",
          "Volkswagen",
          "Ford",
          "Audi",
          "Polestar Automotive USA Inc",
          "Mercedes-Benz",
          "BMW",
          "BMW",
          "BMW",
          "Audi",
          "KIA",
          "Tesla Motors",
          "Tesla Motors",
          "Tesla Motors",
          "Vinfast",
          "Tesla Motors",
          "TOYOTA",
          "TOYOTA",
          "Subaru",
          "NISSAN",
          "Volvo Cars of North America, LLC",
          "Audi",
          "Jaguar",
          "BMW",
          "Chevrolet",
          "Ford",
          "Ford",
          "GENESIS",
          "KIA",
          "KIA",
          "HYUNDAI MOTOR COMPANY",
          "Mini",
          "GENESIS",
          "Tesla Motors",
          "KIA",
          "Ford",
          "NISSAN",
          "NISSAN",
          "Cadillac",
          "NISSAN",
          "Lordstown"
         ],
         "xaxis": "x",
         "y": [
          24,
          18,
          12,
          12,
          10,
          8,
          8,
          8,
          6,
          6,
          6,
          6,
          6,
          6,
          4,
          4,
          4,
          4,
          4,
          4,
          4,
          4,
          4,
          4,
          4,
          4,
          4,
          4,
          4,
          4,
          2,
          2,
          2,
          2,
          2,
          2,
          2,
          2,
          2,
          2,
          2,
          2,
          2
         ],
         "yaxis": "y"
        }
       ],
       "layout": {
        "barmode": "relative",
        "coloraxis": {
         "colorbar": {
          "title": {
           "text": "Batt Specific Energy (Watt-hr/kg)"
          }
         },
         "colorscale": [
          [
           0,
           "#0d0887"
          ],
          [
           0.1111111111111111,
           "#46039f"
          ],
          [
           0.2222222222222222,
           "#7201a8"
          ],
          [
           0.3333333333333333,
           "#9c179e"
          ],
          [
           0.4444444444444444,
           "#bd3786"
          ],
          [
           0.5555555555555556,
           "#d8576b"
          ],
          [
           0.6666666666666666,
           "#ed7953"
          ],
          [
           0.7777777777777778,
           "#fb9f3a"
          ],
          [
           0.8888888888888888,
           "#fdca26"
          ],
          [
           1,
           "#f0f921"
          ]
         ]
        },
        "legend": {
         "tracegroupgap": 0
        },
        "margin": {
         "t": 60
        },
        "template": {
         "data": {
          "bar": [
           {
            "error_x": {
             "color": "#2a3f5f"
            },
            "error_y": {
             "color": "#2a3f5f"
            },
            "marker": {
             "line": {
              "color": "#E5ECF6",
              "width": 0.5
             },
             "pattern": {
              "fillmode": "overlay",
              "size": 10,
              "solidity": 0.2
             }
            },
            "type": "bar"
           }
          ],
          "barpolar": [
           {
            "marker": {
             "line": {
              "color": "#E5ECF6",
              "width": 0.5
             },
             "pattern": {
              "fillmode": "overlay",
              "size": 10,
              "solidity": 0.2
             }
            },
            "type": "barpolar"
           }
          ],
          "carpet": [
           {
            "aaxis": {
             "endlinecolor": "#2a3f5f",
             "gridcolor": "white",
             "linecolor": "white",
             "minorgridcolor": "white",
             "startlinecolor": "#2a3f5f"
            },
            "baxis": {
             "endlinecolor": "#2a3f5f",
             "gridcolor": "white",
             "linecolor": "white",
             "minorgridcolor": "white",
             "startlinecolor": "#2a3f5f"
            },
            "type": "carpet"
           }
          ],
          "choropleth": [
           {
            "colorbar": {
             "outlinewidth": 0,
             "ticks": ""
            },
            "type": "choropleth"
           }
          ],
          "contour": [
           {
            "colorbar": {
             "outlinewidth": 0,
             "ticks": ""
            },
            "colorscale": [
             [
              0,
              "#0d0887"
             ],
             [
              0.1111111111111111,
              "#46039f"
             ],
             [
              0.2222222222222222,
              "#7201a8"
             ],
             [
              0.3333333333333333,
              "#9c179e"
             ],
             [
              0.4444444444444444,
              "#bd3786"
             ],
             [
              0.5555555555555556,
              "#d8576b"
             ],
             [
              0.6666666666666666,
              "#ed7953"
             ],
             [
              0.7777777777777778,
              "#fb9f3a"
             ],
             [
              0.8888888888888888,
              "#fdca26"
             ],
             [
              1,
              "#f0f921"
             ]
            ],
            "type": "contour"
           }
          ],
          "contourcarpet": [
           {
            "colorbar": {
             "outlinewidth": 0,
             "ticks": ""
            },
            "type": "contourcarpet"
           }
          ],
          "heatmap": [
           {
            "colorbar": {
             "outlinewidth": 0,
             "ticks": ""
            },
            "colorscale": [
             [
              0,
              "#0d0887"
             ],
             [
              0.1111111111111111,
              "#46039f"
             ],
             [
              0.2222222222222222,
              "#7201a8"
             ],
             [
              0.3333333333333333,
              "#9c179e"
             ],
             [
              0.4444444444444444,
              "#bd3786"
             ],
             [
              0.5555555555555556,
              "#d8576b"
             ],
             [
              0.6666666666666666,
              "#ed7953"
             ],
             [
              0.7777777777777778,
              "#fb9f3a"
             ],
             [
              0.8888888888888888,
              "#fdca26"
             ],
             [
              1,
              "#f0f921"
             ]
            ],
            "type": "heatmap"
           }
          ],
          "heatmapgl": [
           {
            "colorbar": {
             "outlinewidth": 0,
             "ticks": ""
            },
            "colorscale": [
             [
              0,
              "#0d0887"
             ],
             [
              0.1111111111111111,
              "#46039f"
             ],
             [
              0.2222222222222222,
              "#7201a8"
             ],
             [
              0.3333333333333333,
              "#9c179e"
             ],
             [
              0.4444444444444444,
              "#bd3786"
             ],
             [
              0.5555555555555556,
              "#d8576b"
             ],
             [
              0.6666666666666666,
              "#ed7953"
             ],
             [
              0.7777777777777778,
              "#fb9f3a"
             ],
             [
              0.8888888888888888,
              "#fdca26"
             ],
             [
              1,
              "#f0f921"
             ]
            ],
            "type": "heatmapgl"
           }
          ],
          "histogram": [
           {
            "marker": {
             "pattern": {
              "fillmode": "overlay",
              "size": 10,
              "solidity": 0.2
             }
            },
            "type": "histogram"
           }
          ],
          "histogram2d": [
           {
            "colorbar": {
             "outlinewidth": 0,
             "ticks": ""
            },
            "colorscale": [
             [
              0,
              "#0d0887"
             ],
             [
              0.1111111111111111,
              "#46039f"
             ],
             [
              0.2222222222222222,
              "#7201a8"
             ],
             [
              0.3333333333333333,
              "#9c179e"
             ],
             [
              0.4444444444444444,
              "#bd3786"
             ],
             [
              0.5555555555555556,
              "#d8576b"
             ],
             [
              0.6666666666666666,
              "#ed7953"
             ],
             [
              0.7777777777777778,
              "#fb9f3a"
             ],
             [
              0.8888888888888888,
              "#fdca26"
             ],
             [
              1,
              "#f0f921"
             ]
            ],
            "type": "histogram2d"
           }
          ],
          "histogram2dcontour": [
           {
            "colorbar": {
             "outlinewidth": 0,
             "ticks": ""
            },
            "colorscale": [
             [
              0,
              "#0d0887"
             ],
             [
              0.1111111111111111,
              "#46039f"
             ],
             [
              0.2222222222222222,
              "#7201a8"
             ],
             [
              0.3333333333333333,
              "#9c179e"
             ],
             [
              0.4444444444444444,
              "#bd3786"
             ],
             [
              0.5555555555555556,
              "#d8576b"
             ],
             [
              0.6666666666666666,
              "#ed7953"
             ],
             [
              0.7777777777777778,
              "#fb9f3a"
             ],
             [
              0.8888888888888888,
              "#fdca26"
             ],
             [
              1,
              "#f0f921"
             ]
            ],
            "type": "histogram2dcontour"
           }
          ],
          "mesh3d": [
           {
            "colorbar": {
             "outlinewidth": 0,
             "ticks": ""
            },
            "type": "mesh3d"
           }
          ],
          "parcoords": [
           {
            "line": {
             "colorbar": {
              "outlinewidth": 0,
              "ticks": ""
             }
            },
            "type": "parcoords"
           }
          ],
          "pie": [
           {
            "automargin": true,
            "type": "pie"
           }
          ],
          "scatter": [
           {
            "fillpattern": {
             "fillmode": "overlay",
             "size": 10,
             "solidity": 0.2
            },
            "type": "scatter"
           }
          ],
          "scatter3d": [
           {
            "line": {
             "colorbar": {
              "outlinewidth": 0,
              "ticks": ""
             }
            },
            "marker": {
             "colorbar": {
              "outlinewidth": 0,
              "ticks": ""
             }
            },
            "type": "scatter3d"
           }
          ],
          "scattercarpet": [
           {
            "marker": {
             "colorbar": {
              "outlinewidth": 0,
              "ticks": ""
             }
            },
            "type": "scattercarpet"
           }
          ],
          "scattergeo": [
           {
            "marker": {
             "colorbar": {
              "outlinewidth": 0,
              "ticks": ""
             }
            },
            "type": "scattergeo"
           }
          ],
          "scattergl": [
           {
            "marker": {
             "colorbar": {
              "outlinewidth": 0,
              "ticks": ""
             }
            },
            "type": "scattergl"
           }
          ],
          "scattermapbox": [
           {
            "marker": {
             "colorbar": {
              "outlinewidth": 0,
              "ticks": ""
             }
            },
            "type": "scattermapbox"
           }
          ],
          "scatterpolar": [
           {
            "marker": {
             "colorbar": {
              "outlinewidth": 0,
              "ticks": ""
             }
            },
            "type": "scatterpolar"
           }
          ],
          "scatterpolargl": [
           {
            "marker": {
             "colorbar": {
              "outlinewidth": 0,
              "ticks": ""
             }
            },
            "type": "scatterpolargl"
           }
          ],
          "scatterternary": [
           {
            "marker": {
             "colorbar": {
              "outlinewidth": 0,
              "ticks": ""
             }
            },
            "type": "scatterternary"
           }
          ],
          "surface": [
           {
            "colorbar": {
             "outlinewidth": 0,
             "ticks": ""
            },
            "colorscale": [
             [
              0,
              "#0d0887"
             ],
             [
              0.1111111111111111,
              "#46039f"
             ],
             [
              0.2222222222222222,
              "#7201a8"
             ],
             [
              0.3333333333333333,
              "#9c179e"
             ],
             [
              0.4444444444444444,
              "#bd3786"
             ],
             [
              0.5555555555555556,
              "#d8576b"
             ],
             [
              0.6666666666666666,
              "#ed7953"
             ],
             [
              0.7777777777777778,
              "#fb9f3a"
             ],
             [
              0.8888888888888888,
              "#fdca26"
             ],
             [
              1,
              "#f0f921"
             ]
            ],
            "type": "surface"
           }
          ],
          "table": [
           {
            "cells": {
             "fill": {
              "color": "#EBF0F8"
             },
             "line": {
              "color": "white"
             }
            },
            "header": {
             "fill": {
              "color": "#C8D4E3"
             },
             "line": {
              "color": "white"
             }
            },
            "type": "table"
           }
          ]
         },
         "layout": {
          "annotationdefaults": {
           "arrowcolor": "#2a3f5f",
           "arrowhead": 0,
           "arrowwidth": 1
          },
          "autotypenumbers": "strict",
          "coloraxis": {
           "colorbar": {
            "outlinewidth": 0,
            "ticks": ""
           }
          },
          "colorscale": {
           "diverging": [
            [
             0,
             "#8e0152"
            ],
            [
             0.1,
             "#c51b7d"
            ],
            [
             0.2,
             "#de77ae"
            ],
            [
             0.3,
             "#f1b6da"
            ],
            [
             0.4,
             "#fde0ef"
            ],
            [
             0.5,
             "#f7f7f7"
            ],
            [
             0.6,
             "#e6f5d0"
            ],
            [
             0.7,
             "#b8e186"
            ],
            [
             0.8,
             "#7fbc41"
            ],
            [
             0.9,
             "#4d9221"
            ],
            [
             1,
             "#276419"
            ]
           ],
           "sequential": [
            [
             0,
             "#0d0887"
            ],
            [
             0.1111111111111111,
             "#46039f"
            ],
            [
             0.2222222222222222,
             "#7201a8"
            ],
            [
             0.3333333333333333,
             "#9c179e"
            ],
            [
             0.4444444444444444,
             "#bd3786"
            ],
            [
             0.5555555555555556,
             "#d8576b"
            ],
            [
             0.6666666666666666,
             "#ed7953"
            ],
            [
             0.7777777777777778,
             "#fb9f3a"
            ],
            [
             0.8888888888888888,
             "#fdca26"
            ],
            [
             1,
             "#f0f921"
            ]
           ],
           "sequentialminus": [
            [
             0,
             "#0d0887"
            ],
            [
             0.1111111111111111,
             "#46039f"
            ],
            [
             0.2222222222222222,
             "#7201a8"
            ],
            [
             0.3333333333333333,
             "#9c179e"
            ],
            [
             0.4444444444444444,
             "#bd3786"
            ],
            [
             0.5555555555555556,
             "#d8576b"
            ],
            [
             0.6666666666666666,
             "#ed7953"
            ],
            [
             0.7777777777777778,
             "#fb9f3a"
            ],
            [
             0.8888888888888888,
             "#fdca26"
            ],
            [
             1,
             "#f0f921"
            ]
           ]
          },
          "colorway": [
           "#636efa",
           "#EF553B",
           "#00cc96",
           "#ab63fa",
           "#FFA15A",
           "#19d3f3",
           "#FF6692",
           "#B6E880",
           "#FF97FF",
           "#FECB52"
          ],
          "font": {
           "color": "#2a3f5f"
          },
          "geo": {
           "bgcolor": "white",
           "lakecolor": "white",
           "landcolor": "#E5ECF6",
           "showlakes": true,
           "showland": true,
           "subunitcolor": "white"
          },
          "hoverlabel": {
           "align": "left"
          },
          "hovermode": "closest",
          "mapbox": {
           "style": "light"
          },
          "paper_bgcolor": "white",
          "plot_bgcolor": "#E5ECF6",
          "polar": {
           "angularaxis": {
            "gridcolor": "white",
            "linecolor": "white",
            "ticks": ""
           },
           "bgcolor": "#E5ECF6",
           "radialaxis": {
            "gridcolor": "white",
            "linecolor": "white",
            "ticks": ""
           }
          },
          "scene": {
           "xaxis": {
            "backgroundcolor": "#E5ECF6",
            "gridcolor": "white",
            "gridwidth": 2,
            "linecolor": "white",
            "showbackground": true,
            "ticks": "",
            "zerolinecolor": "white"
           },
           "yaxis": {
            "backgroundcolor": "#E5ECF6",
            "gridcolor": "white",
            "gridwidth": 2,
            "linecolor": "white",
            "showbackground": true,
            "ticks": "",
            "zerolinecolor": "white"
           },
           "zaxis": {
            "backgroundcolor": "#E5ECF6",
            "gridcolor": "white",
            "gridwidth": 2,
            "linecolor": "white",
            "showbackground": true,
            "ticks": "",
            "zerolinecolor": "white"
           }
          },
          "shapedefaults": {
           "line": {
            "color": "#2a3f5f"
           }
          },
          "ternary": {
           "aaxis": {
            "gridcolor": "white",
            "linecolor": "white",
            "ticks": ""
           },
           "baxis": {
            "gridcolor": "white",
            "linecolor": "white",
            "ticks": ""
           },
           "bgcolor": "#E5ECF6",
           "caxis": {
            "gridcolor": "white",
            "linecolor": "white",
            "ticks": ""
           }
          },
          "title": {
           "x": 0.05
          },
          "xaxis": {
           "automargin": true,
           "gridcolor": "white",
           "linecolor": "white",
           "ticks": "",
           "title": {
            "standoff": 15
           },
           "zerolinecolor": "white",
           "zerolinewidth": 2
          },
          "yaxis": {
           "automargin": true,
           "gridcolor": "white",
           "linecolor": "white",
           "ticks": "",
           "title": {
            "standoff": 15
           },
           "zerolinecolor": "white",
           "zerolinewidth": 2
          }
         }
        },
        "xaxis": {
         "anchor": "y",
         "domain": [
          0,
          1
         ],
         "title": {
          "text": "Division"
         }
        },
        "yaxis": {
         "anchor": "x",
         "domain": [
          0,
          1
         ],
         "title": {
          "text": "cant"
         }
        }
       }
      }
     },
     "metadata": {},
     "output_type": "display_data"
    }
   ],
   "source": [
    "evs1 = evs.groupby(['Division', 'Batt Specific Energy (Watt-hr/kg)'])['Model Yr'].count().rename('cant')\n",
    "\n",
    "px.bar(evs1.reset_index().sort_values('cant', ascending=False), x='Division', y='cant', color='Batt Specific Energy (Watt-hr/kg)')"
   ]
  },
  {
   "cell_type": "code",
   "execution_count": 38,
   "metadata": {},
   "outputs": [
    {
     "data": {
      "text/plain": [
       "Index(['# Cyl', 'Air Aspir Method', 'Air Aspiration Method Desc',\n",
       "       'Max Ethanol % - Gasoline', 'Max Biodiesel %', '2Dr Pass Vol',\n",
       "       '2Dr Lugg Vol', 'City2 FE (Guide) - Alternative Fuel',\n",
       "       'Hwy2 Fuel FE (Guide) - Alternative Fuel',\n",
       "       'Comb2 Fuel FE (Guide) - Alternative Fuel',\n",
       "       'City2 Unadj FE - Alternative Fuel', 'Hwy2 Unadj FE - Alternative Fuel',\n",
       "       'Comb2 Unadj FE - Alternative Fuel',\n",
       "       'City2 Unrd Adj FE - Alternative Fuel',\n",
       "       'Hwy2 Unrd Adj FE - Alternative Fuel',\n",
       "       'Cmb2 Unrd Adj FE - Alternative Fuel',\n",
       "       'Range2 - Alt Fuel Model Typ Driving Range - Alternative Fuel',\n",
       "       'Fuel2 Usage - Alternative Fuel', 'Fuel2 Usage Desc - Alternative Fuel',\n",
       "       'Fuel2 Unit - Alternative Fuel', 'Fuel2 Unit Desc - Alternative Fuel',\n",
       "       'Fuel2 Annual Fuel Cost - Alternative Fuel',\n",
       "       'City CO2 Rounded Adjusted - Fuel 2',\n",
       "       'Hwy CO2 Rounded Adjusted - Fuel 2',\n",
       "       'Comb CO2 Rounded Adjusted - Fuel 2',\n",
       "       'Fuel2 EPA Calculated Annual Fuel Cost - Alternative Fuel',\n",
       "       'Descriptor - Model Type (40 Char or less)', 'Intake Valves Per Cyl',\n",
       "       'Exhaust Valves Per Cyl', '', 'Relabel', 'Relabel Desc',\n",
       "       'Comments - Mfr Eng Cnfg', 'Cyl Deact?', 'Cyl Deact Desc',\n",
       "       'Var Valve Timing?', 'Var Valve Timing Desc', 'Var Valve Lift?',\n",
       "       'Var Valve Lift Desc', 'Energy Storage Device,If Other',\n",
       "       'Battery Type, If Other', 'Comments', '# Capacitors',\n",
       "       'Regen Braking Type, If Other', 'Fuel Cell Desc',\n",
       "       'Usable H2 Fill Capacity (kg)', 'Fuel Cell Onboard H2 Capacity (kg)',\n",
       "       'Fuel Metering Type 1 Desc', 'Fuel Metering Type 2 Desc',\n",
       "       'Fuel Metering Sys Cd', 'Fuel Metering Sys Desc',\n",
       "       'Camless Valvetrain (Y or N)', 'Oil Viscosity',\n",
       "       'Charge Depleting Calc Appr Code (PHEVs only)',\n",
       "       'Charge Depleting Calc Appr Desc  (PHEVs only)',\n",
       "       'Charge Sustaining Calc Appr Code  (PHEVs only)',\n",
       "       'Charge Sustaining Calc Appr Desc  (PHEVs only)',\n",
       "       'EPA Calculated Annual Fuel Cost', 'EPA Calculated Gas Guzzler MPG',\n",
       "       'MFR Calculated Gas Guzzler MPG',\n",
       "       'EPA Calculated Gas Guzzler Indicator (Y or N)', '',\n",
       "       'GHG 1-10 rating on Ethanol (EPA Determined)',\n",
       "       '#1 EPA Smog Rating (EPA Smog 1-10 Rating on Label for Test Group 1)',\n",
       "       'SmartWay1 (EPA-derived SmartWay rating for Test Group 1)',\n",
       "       '#2 Smog Rating Test Group',\n",
       "       '#2 Mfr Smog Rating (Mfr Smog 1-10 Rating on Label for Test Group 2)',\n",
       "       '#2 EPA Smog Rating (EPA Smog 1-10 Rating on Label for Test Group 2)',\n",
       "       'SmartWay2 (EPA-derived SmartWay rating for Test Group 2)',\n",
       "       '#3 Smog Rating Test Group',\n",
       "       '#3 Mfr Smog Rating (Mfr Smog 1-10 Rating on Label for Test Group 3)',\n",
       "       '#3 EPA Smog Rating (EPA Smog 1-10 Rating on Label for Test Group 3)',\n",
       "       'SmartWay3 (EPA-derived SmartWay rating for Test Group 3)',\n",
       "       '#4 Smog Rating Test Group',\n",
       "       '#4 Mfr Smog Rating (Mfr Smog 1-10 Rating on Label for Test Group 4)',\n",
       "       '#4 EPA Smog Rating (EPA Smog 1-10 Rating on Label for Test Group 4)',\n",
       "       'SmartWay4 (EPA-derived SmartWay rating for Test Group 4)',\n",
       "       '$ You Spend over 5 years (increased amount spent in fuel costs over 5 years - on label)',\n",
       "       'CO2-PHEV Composite Rounded Adjusted Combined CO2',\n",
       "       '120V Charge time at 120 Volts (hours)',\n",
       "       'PHEV Total Driving Range (rounded to nearest 10 miles)DISTANCE',\n",
       "       'City PHEV Composite MPGe', 'Hwy PHEV Composite MPGe',\n",
       "       'Comb PHEV Composite MPGe', ''],\n",
       "      dtype='object', name=6)"
      ]
     },
     "execution_count": 38,
     "metadata": {},
     "output_type": "execute_result"
    }
   ],
   "source": [
    "all_columns = evs.notna().sum()\n",
    "all_columns[all_columns == 0].index"
   ]
  },
  {
   "cell_type": "markdown",
   "metadata": {},
   "source": [
    "## General Data"
   ]
  },
  {
   "cell_type": "code",
   "execution_count": 3,
   "metadata": {},
   "outputs": [
    {
     "data": {
      "text/html": [
       "<div>\n",
       "<style scoped>\n",
       "    .dataframe tbody tr th:only-of-type {\n",
       "        vertical-align: middle;\n",
       "    }\n",
       "\n",
       "    .dataframe tbody tr th {\n",
       "        vertical-align: top;\n",
       "    }\n",
       "\n",
       "    .dataframe thead th {\n",
       "        text-align: right;\n",
       "    }\n",
       "</style>\n",
       "<table border=\"1\" class=\"dataframe\">\n",
       "  <thead>\n",
       "    <tr style=\"text-align: right;\">\n",
       "      <th></th>\n",
       "      <th>Model Year</th>\n",
       "      <th>Mfr Name</th>\n",
       "      <th>Division</th>\n",
       "      <th>Carline</th>\n",
       "      <th>Verify Mfr Cd</th>\n",
       "      <th>Index (Model Type Index)</th>\n",
       "      <th>Eng Displ</th>\n",
       "      <th># Cyl</th>\n",
       "      <th>Transmission</th>\n",
       "      <th>City FE (Guide) - Conventional Fuel</th>\n",
       "      <th>...</th>\n",
       "      <th>City CO2 Rounded Adjusted</th>\n",
       "      <th>Hwy CO2 Rounded Adjusted</th>\n",
       "      <th>Comb CO2 Rounded Adjusted (as shown on FE Label)</th>\n",
       "      <th>CO2-PHEV Composite Rounded Adjusted Combined CO2</th>\n",
       "      <th>240V Charge Time at 240 volts (hours)</th>\n",
       "      <th>120V Charge time at 120 Volts (hours)</th>\n",
       "      <th>PHEV Total Driving Range (rounded to nearest 10 miles)DISTANCE</th>\n",
       "      <th>City PHEV Composite MPGe</th>\n",
       "      <th>Hwy PHEV Composite MPGe</th>\n",
       "      <th>Comb PHEV Composite MPGe</th>\n",
       "    </tr>\n",
       "  </thead>\n",
       "  <tbody>\n",
       "    <tr>\n",
       "      <th>0</th>\n",
       "      <td>2023</td>\n",
       "      <td>aston martin</td>\n",
       "      <td>Aston Martin Lagonda Ltd</td>\n",
       "      <td>V12 Vantage</td>\n",
       "      <td>ASX</td>\n",
       "      <td>7</td>\n",
       "      <td>5.2</td>\n",
       "      <td>12</td>\n",
       "      <td>Auto(A8)</td>\n",
       "      <td>14</td>\n",
       "      <td>...</td>\n",
       "      <td>659</td>\n",
       "      <td>413</td>\n",
       "      <td>548</td>\n",
       "      <td>NaN</td>\n",
       "      <td>NaN</td>\n",
       "      <td>NaN</td>\n",
       "      <td>NaN</td>\n",
       "      <td>NaN</td>\n",
       "      <td>NaN</td>\n",
       "      <td>NaN</td>\n",
       "    </tr>\n",
       "    <tr>\n",
       "      <th>1</th>\n",
       "      <td>2023</td>\n",
       "      <td>aston martin</td>\n",
       "      <td>Aston Martin Lagonda Ltd</td>\n",
       "      <td>Vantage V8</td>\n",
       "      <td>ASX</td>\n",
       "      <td>4</td>\n",
       "      <td>4.0</td>\n",
       "      <td>8</td>\n",
       "      <td>Auto(A8)</td>\n",
       "      <td>18</td>\n",
       "      <td>...</td>\n",
       "      <td>494</td>\n",
       "      <td>364</td>\n",
       "      <td>435</td>\n",
       "      <td>NaN</td>\n",
       "      <td>NaN</td>\n",
       "      <td>NaN</td>\n",
       "      <td>NaN</td>\n",
       "      <td>NaN</td>\n",
       "      <td>NaN</td>\n",
       "      <td>NaN</td>\n",
       "    </tr>\n",
       "    <tr>\n",
       "      <th>2</th>\n",
       "      <td>2023</td>\n",
       "      <td>Volkswagen Group of</td>\n",
       "      <td>Audi</td>\n",
       "      <td>R8 Coupe quattro</td>\n",
       "      <td>VGA</td>\n",
       "      <td>18</td>\n",
       "      <td>5.2</td>\n",
       "      <td>10</td>\n",
       "      <td>Auto(AM-S7)</td>\n",
       "      <td>13</td>\n",
       "      <td>...</td>\n",
       "      <td>663</td>\n",
       "      <td>479</td>\n",
       "      <td>580</td>\n",
       "      <td>NaN</td>\n",
       "      <td>NaN</td>\n",
       "      <td>NaN</td>\n",
       "      <td>NaN</td>\n",
       "      <td>NaN</td>\n",
       "      <td>NaN</td>\n",
       "      <td>NaN</td>\n",
       "    </tr>\n",
       "    <tr>\n",
       "      <th>3</th>\n",
       "      <td>2023</td>\n",
       "      <td>Volkswagen Group of</td>\n",
       "      <td>Audi</td>\n",
       "      <td>R8 Coupe RWD</td>\n",
       "      <td>VGA</td>\n",
       "      <td>20</td>\n",
       "      <td>5.2</td>\n",
       "      <td>10</td>\n",
       "      <td>Auto(AM-S7)</td>\n",
       "      <td>14</td>\n",
       "      <td>...</td>\n",
       "      <td>621</td>\n",
       "      <td>384</td>\n",
       "      <td>515</td>\n",
       "      <td>NaN</td>\n",
       "      <td>NaN</td>\n",
       "      <td>NaN</td>\n",
       "      <td>NaN</td>\n",
       "      <td>NaN</td>\n",
       "      <td>NaN</td>\n",
       "      <td>NaN</td>\n",
       "    </tr>\n",
       "    <tr>\n",
       "      <th>4</th>\n",
       "      <td>2023</td>\n",
       "      <td>Volkswagen Group of</td>\n",
       "      <td>Audi</td>\n",
       "      <td>R8 GT RWD</td>\n",
       "      <td>VGA</td>\n",
       "      <td>94</td>\n",
       "      <td>5.2</td>\n",
       "      <td>10</td>\n",
       "      <td>Auto(AM-S7)</td>\n",
       "      <td>14</td>\n",
       "      <td>...</td>\n",
       "      <td>612</td>\n",
       "      <td>423</td>\n",
       "      <td>527</td>\n",
       "      <td>NaN</td>\n",
       "      <td>NaN</td>\n",
       "      <td>NaN</td>\n",
       "      <td>NaN</td>\n",
       "      <td>NaN</td>\n",
       "      <td>NaN</td>\n",
       "      <td>NaN</td>\n",
       "    </tr>\n",
       "    <tr>\n",
       "      <th>...</th>\n",
       "      <td>...</td>\n",
       "      <td>...</td>\n",
       "      <td>...</td>\n",
       "      <td>...</td>\n",
       "      <td>...</td>\n",
       "      <td>...</td>\n",
       "      <td>...</td>\n",
       "      <td>...</td>\n",
       "      <td>...</td>\n",
       "      <td>...</td>\n",
       "      <td>...</td>\n",
       "      <td>...</td>\n",
       "      <td>...</td>\n",
       "      <td>...</td>\n",
       "      <td>...</td>\n",
       "      <td>...</td>\n",
       "      <td>...</td>\n",
       "      <td>...</td>\n",
       "      <td>...</td>\n",
       "      <td>...</td>\n",
       "      <td>...</td>\n",
       "    </tr>\n",
       "    <tr>\n",
       "      <th>1114</th>\n",
       "      <td>2023</td>\n",
       "      <td>General Motors</td>\n",
       "      <td>Chevrolet</td>\n",
       "      <td>COLORADO 4WD MUD TERRAIN TIRES</td>\n",
       "      <td>GMX</td>\n",
       "      <td>894</td>\n",
       "      <td>2.7</td>\n",
       "      <td>4</td>\n",
       "      <td>Auto(A8)</td>\n",
       "      <td>17</td>\n",
       "      <td>...</td>\n",
       "      <td>523</td>\n",
       "      <td>458</td>\n",
       "      <td>494</td>\n",
       "      <td>NaN</td>\n",
       "      <td>NaN</td>\n",
       "      <td>NaN</td>\n",
       "      <td>NaN</td>\n",
       "      <td>NaN</td>\n",
       "      <td>NaN</td>\n",
       "      <td>NaN</td>\n",
       "    </tr>\n",
       "    <tr>\n",
       "      <th>1115</th>\n",
       "      <td>2023</td>\n",
       "      <td>General Motors</td>\n",
       "      <td>GMC</td>\n",
       "      <td>CANYON 4WD</td>\n",
       "      <td>GMX</td>\n",
       "      <td>899</td>\n",
       "      <td>2.7</td>\n",
       "      <td>4</td>\n",
       "      <td>Auto(A8)</td>\n",
       "      <td>17</td>\n",
       "      <td>...</td>\n",
       "      <td>508</td>\n",
       "      <td>416</td>\n",
       "      <td>467</td>\n",
       "      <td>NaN</td>\n",
       "      <td>NaN</td>\n",
       "      <td>NaN</td>\n",
       "      <td>NaN</td>\n",
       "      <td>NaN</td>\n",
       "      <td>NaN</td>\n",
       "      <td>NaN</td>\n",
       "    </tr>\n",
       "    <tr>\n",
       "      <th>1116</th>\n",
       "      <td>2023</td>\n",
       "      <td>General Motors</td>\n",
       "      <td>GMC</td>\n",
       "      <td>CANYON 4WD MUD TERRAIN TIRES</td>\n",
       "      <td>GMX</td>\n",
       "      <td>903</td>\n",
       "      <td>2.7</td>\n",
       "      <td>4</td>\n",
       "      <td>Auto(A8)</td>\n",
       "      <td>17</td>\n",
       "      <td>...</td>\n",
       "      <td>524</td>\n",
       "      <td>456</td>\n",
       "      <td>495</td>\n",
       "      <td>NaN</td>\n",
       "      <td>NaN</td>\n",
       "      <td>NaN</td>\n",
       "      <td>NaN</td>\n",
       "      <td>NaN</td>\n",
       "      <td>NaN</td>\n",
       "      <td>NaN</td>\n",
       "    </tr>\n",
       "    <tr>\n",
       "      <th>1117</th>\n",
       "      <td>2023</td>\n",
       "      <td>FCA US LLC</td>\n",
       "      <td>RAM</td>\n",
       "      <td>1500 4X2</td>\n",
       "      <td>CRX</td>\n",
       "      <td>547</td>\n",
       "      <td>5.7</td>\n",
       "      <td>8</td>\n",
       "      <td>Auto(A8)</td>\n",
       "      <td>15</td>\n",
       "      <td>...</td>\n",
       "      <td>612</td>\n",
       "      <td>395</td>\n",
       "      <td>514</td>\n",
       "      <td>NaN</td>\n",
       "      <td>NaN</td>\n",
       "      <td>NaN</td>\n",
       "      <td>NaN</td>\n",
       "      <td>NaN</td>\n",
       "      <td>NaN</td>\n",
       "      <td>NaN</td>\n",
       "    </tr>\n",
       "    <tr>\n",
       "      <th>1118</th>\n",
       "      <td>2023</td>\n",
       "      <td>FCA US LLC</td>\n",
       "      <td>RAM</td>\n",
       "      <td>1500 4X4</td>\n",
       "      <td>CRX</td>\n",
       "      <td>551</td>\n",
       "      <td>5.7</td>\n",
       "      <td>8</td>\n",
       "      <td>Auto(A8)</td>\n",
       "      <td>15</td>\n",
       "      <td>...</td>\n",
       "      <td>611</td>\n",
       "      <td>415</td>\n",
       "      <td>523</td>\n",
       "      <td>NaN</td>\n",
       "      <td>NaN</td>\n",
       "      <td>NaN</td>\n",
       "      <td>NaN</td>\n",
       "      <td>NaN</td>\n",
       "      <td>NaN</td>\n",
       "      <td>NaN</td>\n",
       "    </tr>\n",
       "  </tbody>\n",
       "</table>\n",
       "<p>1119 rows × 162 columns</p>\n",
       "</div>"
      ],
      "text/plain": [
       "      Model Year             Mfr Name                  Division  \\\n",
       "0           2023         aston martin  Aston Martin Lagonda Ltd   \n",
       "1           2023         aston martin  Aston Martin Lagonda Ltd   \n",
       "2           2023  Volkswagen Group of                      Audi   \n",
       "3           2023  Volkswagen Group of                      Audi   \n",
       "4           2023  Volkswagen Group of                      Audi   \n",
       "...          ...                  ...                       ...   \n",
       "1114        2023       General Motors                 Chevrolet   \n",
       "1115        2023       General Motors                       GMC   \n",
       "1116        2023       General Motors                       GMC   \n",
       "1117        2023           FCA US LLC                       RAM   \n",
       "1118        2023           FCA US LLC                       RAM   \n",
       "\n",
       "                             Carline Verify Mfr Cd  Index (Model Type Index)  \\\n",
       "0                        V12 Vantage           ASX                         7   \n",
       "1                         Vantage V8           ASX                         4   \n",
       "2                   R8 Coupe quattro           VGA                        18   \n",
       "3                       R8 Coupe RWD           VGA                        20   \n",
       "4                          R8 GT RWD           VGA                        94   \n",
       "...                              ...           ...                       ...   \n",
       "1114  COLORADO 4WD MUD TERRAIN TIRES           GMX                       894   \n",
       "1115                      CANYON 4WD           GMX                       899   \n",
       "1116    CANYON 4WD MUD TERRAIN TIRES           GMX                       903   \n",
       "1117                        1500 4X2           CRX                       547   \n",
       "1118                        1500 4X4           CRX                       551   \n",
       "\n",
       "      Eng Displ  # Cyl Transmission  City FE (Guide) - Conventional Fuel  ...  \\\n",
       "0           5.2     12     Auto(A8)                                   14  ...   \n",
       "1           4.0      8     Auto(A8)                                   18  ...   \n",
       "2           5.2     10  Auto(AM-S7)                                   13  ...   \n",
       "3           5.2     10  Auto(AM-S7)                                   14  ...   \n",
       "4           5.2     10  Auto(AM-S7)                                   14  ...   \n",
       "...         ...    ...          ...                                  ...  ...   \n",
       "1114        2.7      4     Auto(A8)                                   17  ...   \n",
       "1115        2.7      4     Auto(A8)                                   17  ...   \n",
       "1116        2.7      4     Auto(A8)                                   17  ...   \n",
       "1117        5.7      8     Auto(A8)                                   15  ...   \n",
       "1118        5.7      8     Auto(A8)                                   15  ...   \n",
       "\n",
       "      City CO2 Rounded Adjusted  Hwy CO2 Rounded Adjusted  \\\n",
       "0                           659                       413   \n",
       "1                           494                       364   \n",
       "2                           663                       479   \n",
       "3                           621                       384   \n",
       "4                           612                       423   \n",
       "...                         ...                       ...   \n",
       "1114                        523                       458   \n",
       "1115                        508                       416   \n",
       "1116                        524                       456   \n",
       "1117                        612                       395   \n",
       "1118                        611                       415   \n",
       "\n",
       "      Comb CO2 Rounded Adjusted (as shown on FE Label)  \\\n",
       "0                                                  548   \n",
       "1                                                  435   \n",
       "2                                                  580   \n",
       "3                                                  515   \n",
       "4                                                  527   \n",
       "...                                                ...   \n",
       "1114                                               494   \n",
       "1115                                               467   \n",
       "1116                                               495   \n",
       "1117                                               514   \n",
       "1118                                               523   \n",
       "\n",
       "      CO2-PHEV Composite Rounded Adjusted Combined CO2  \\\n",
       "0                                                  NaN   \n",
       "1                                                  NaN   \n",
       "2                                                  NaN   \n",
       "3                                                  NaN   \n",
       "4                                                  NaN   \n",
       "...                                                ...   \n",
       "1114                                               NaN   \n",
       "1115                                               NaN   \n",
       "1116                                               NaN   \n",
       "1117                                               NaN   \n",
       "1118                                               NaN   \n",
       "\n",
       "      240V Charge Time at 240 volts (hours)  \\\n",
       "0                                       NaN   \n",
       "1                                       NaN   \n",
       "2                                       NaN   \n",
       "3                                       NaN   \n",
       "4                                       NaN   \n",
       "...                                     ...   \n",
       "1114                                    NaN   \n",
       "1115                                    NaN   \n",
       "1116                                    NaN   \n",
       "1117                                    NaN   \n",
       "1118                                    NaN   \n",
       "\n",
       "      120V Charge time at 120 Volts (hours)  \\\n",
       "0                                       NaN   \n",
       "1                                       NaN   \n",
       "2                                       NaN   \n",
       "3                                       NaN   \n",
       "4                                       NaN   \n",
       "...                                     ...   \n",
       "1114                                    NaN   \n",
       "1115                                    NaN   \n",
       "1116                                    NaN   \n",
       "1117                                    NaN   \n",
       "1118                                    NaN   \n",
       "\n",
       "      PHEV Total Driving Range (rounded to nearest 10 miles)DISTANCE  \\\n",
       "0                                                   NaN                \n",
       "1                                                   NaN                \n",
       "2                                                   NaN                \n",
       "3                                                   NaN                \n",
       "4                                                   NaN                \n",
       "...                                                 ...                \n",
       "1114                                                NaN                \n",
       "1115                                                NaN                \n",
       "1116                                                NaN                \n",
       "1117                                                NaN                \n",
       "1118                                                NaN                \n",
       "\n",
       "      City PHEV Composite MPGe Hwy PHEV Composite MPGe  \\\n",
       "0                          NaN                     NaN   \n",
       "1                          NaN                     NaN   \n",
       "2                          NaN                     NaN   \n",
       "3                          NaN                     NaN   \n",
       "4                          NaN                     NaN   \n",
       "...                        ...                     ...   \n",
       "1114                       NaN                     NaN   \n",
       "1115                       NaN                     NaN   \n",
       "1116                       NaN                     NaN   \n",
       "1117                       NaN                     NaN   \n",
       "1118                       NaN                     NaN   \n",
       "\n",
       "     Comb PHEV Composite MPGe  \n",
       "0                         NaN  \n",
       "1                         NaN  \n",
       "2                         NaN  \n",
       "3                         NaN  \n",
       "4                         NaN  \n",
       "...                       ...  \n",
       "1114                      NaN  \n",
       "1115                      NaN  \n",
       "1116                      NaN  \n",
       "1117                      NaN  \n",
       "1118                      NaN  \n",
       "\n",
       "[1119 rows x 162 columns]"
      ]
     },
     "execution_count": 3,
     "metadata": {},
     "output_type": "execute_result"
    }
   ],
   "source": [
    "df = pd.read_excel('2023_sales_autos.xlsx')\n",
    "df"
   ]
  }
 ],
 "metadata": {
  "kernelspec": {
   "display_name": "datas",
   "language": "python",
   "name": "python3"
  },
  "language_info": {
   "codemirror_mode": {
    "name": "ipython",
    "version": 3
   },
   "file_extension": ".py",
   "mimetype": "text/x-python",
   "name": "python",
   "nbconvert_exporter": "python",
   "pygments_lexer": "ipython3",
   "version": "3.11.3"
  },
  "orig_nbformat": 4
 },
 "nbformat": 4,
 "nbformat_minor": 2
}
